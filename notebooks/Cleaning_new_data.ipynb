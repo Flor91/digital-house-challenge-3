{
 "cells": [
  {
   "cell_type": "code",
   "execution_count": 11,
   "metadata": {},
   "outputs": [],
   "source": [
    "import os\n",
    "import time\n",
    "import json\n",
    "\n",
    "import IPython.display as ipd\n",
    "import numpy as np\n",
    "import pandas as pd\n",
    "import seaborn as sns\n",
    "\n",
    "import utils\n",
    "\n",
    "from matplotlib import pyplot as plt\n",
    "\n",
    "from sklearn.model_selection import train_test_split, KFold, GridSearchCV, cross_val_score, StratifiedKFold\n",
    "from sklearn.metrics import accuracy_score, f1_score, precision_score, recall_score, classification_report, confusion_matrix\n",
    "from sklearn.metrics import explained_variance_score, r2_score, mean_squared_error\n",
    "from sklearn.preprocessing import StandardScaler, RobustScaler, MinMaxScaler\n",
    "from sklearn.metrics import roc_auc_score\n",
    "from sklearn.decomposition import PCA\n",
    "\n",
    "from imblearn.under_sampling import RandomUnderSampler\n",
    "from imblearn.over_sampling import RandomOverSampler"
   ]
  },
  {
   "cell_type": "code",
   "execution_count": 4,
   "metadata": {},
   "outputs": [],
   "source": [
    "extra_audio_genre_df = pd.read_csv(\"extra_audio_genre.csv\")\n",
    "extra_audio_derived_genre_df = pd.read_csv(\"extra_audio_derived_genre.csv\")"
   ]
  },
  {
   "cell_type": "code",
   "execution_count": 97,
   "metadata": {},
   "outputs": [],
   "source": [
    "jazz_scrapped = pd.read_csv(\"jazz.csv\")\n",
    "blues_scrapped = pd.read_csv(\"blues.csv\")"
   ]
  },
  {
   "cell_type": "code",
   "execution_count": 147,
   "metadata": {},
   "outputs": [],
   "source": [
    "spotify_features_to_drop = [\n",
    "    'artist',\n",
    "    'key',\n",
    "    'librosa_features',\n",
    "    'loudness',\n",
    "    'mode',\n",
    "    'name',\n",
    "    'time_signature',\n",
    "    'duration_ms'\n",
    "]\n",
    "\n",
    "def clean_new_data(data, genre, spotify_features_to_drop=[]):\n",
    "    librosa_info = {}\n",
    "\n",
    "    for index, librosa_features in data.librosa_features.iteritems():\n",
    "        cleaned_row = clean_new_data_row(librosa_features, librosa_info)\n",
    "        librosa_info.update(cleaned_row)\n",
    "        \n",
    "    librosa_info_df = pd.DataFrame(librosa_info)\n",
    "    \n",
    "    cleaned_data =  pd.concat([data.drop(spotify_features_to_drop, axis=1), librosa_info_df], axis=1)\n",
    "    cleaned_data['duration'] = data.duration_ms\n",
    "    cleaned_data['genre_top'] = genre\n",
    "\n",
    "    return cleaned_data\n",
    "\n",
    "def clean_new_data_row(librosa_features, librosa_info={}):\n",
    "    cleaned_librosa_features = librosa_info\n",
    "    for feature, value in json.loads(json.loads(librosa_features)).items():\n",
    "        if \"ske\" not in feature and \"spectral_centroid\" not in feature:\n",
    "            feature = eval(feature) # Parsing a string repr of a tuple. Don't do this at home.\n",
    "            feature_name = f'{feature[0]}_{feature[1][0:3]}_{feature[2].lstrip(\"0\")}'\n",
    "            try:            \n",
    "                cleaned_librosa_features[feature_name].append(value)\n",
    "            except KeyError:\n",
    "                cleaned_librosa_features[feature_name] = [value]\n",
    "    return cleaned_librosa_features"
   ]
  },
  {
   "cell_type": "code",
   "execution_count": 155,
   "metadata": {},
   "outputs": [
    {
     "name": "stdout",
     "output_type": "stream",
     "text": [
      "New added tracks:\n"
     ]
    },
    {
     "data": {
      "text/plain": [
       "Blues                  241\n",
       "Classical                0\n",
       "Electronic               0\n",
       "Experimental             0\n",
       "Folk                     0\n",
       "Hip-Hop                  0\n",
       "Instrumental             0\n",
       "International            0\n",
       "Jazz                   201\n",
       "Old-Time / Historic      0\n",
       "Pop                      0\n",
       "Rock                     0\n",
       "Name: genre_top, dtype: int64"
      ]
     },
     "execution_count": 155,
     "metadata": {},
     "output_type": "execute_result"
    }
   ],
   "source": [
    "cleaned_jazz_scrapped = clean_new_data(jazz_scrapped, \"Jazz\", spotify_features_to_drop)\n",
    "cleaned_blues_scrapped = clean_new_data(blues_scrapped, \"Blues\", spotify_features_to_drop)\n",
    "\n",
    "df = pd.concat([cleaned_jazz_scrapped, cleaned_blues_scrapped, extra_audio_genre_df])\n",
    "\n",
    "print(\"New added tracks:\")\n",
    "df.genre_top.value_counts() - extra_audio_genre_df.genre_top.value_counts()"
   ]
  },
  {
   "cell_type": "code",
   "execution_count": 156,
   "metadata": {},
   "outputs": [],
   "source": [
    "df.to_csv(\"final_dataset.df\")"
   ]
  },
  {
   "cell_type": "code",
   "execution_count": null,
   "metadata": {},
   "outputs": [],
   "source": []
  }
 ],
 "metadata": {
  "kernelspec": {
   "display_name": "Python 3",
   "language": "python",
   "name": "python3"
  },
  "language_info": {
   "codemirror_mode": {
    "name": "ipython",
    "version": 3
   },
   "file_extension": ".py",
   "mimetype": "text/x-python",
   "name": "python",
   "nbconvert_exporter": "python",
   "pygments_lexer": "ipython3",
   "version": "3.7.9"
  }
 },
 "nbformat": 4,
 "nbformat_minor": 4
}
